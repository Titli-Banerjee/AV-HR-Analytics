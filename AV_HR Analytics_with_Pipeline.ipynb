{
 "cells": [
  {
   "cell_type": "code",
   "execution_count": 1,
   "id": "84213e61",
   "metadata": {},
   "outputs": [],
   "source": [
    "#!pip install lightgbm"
   ]
  },
  {
   "cell_type": "code",
   "execution_count": 2,
   "id": "37cc0027",
   "metadata": {},
   "outputs": [],
   "source": [
    "#!pip install imbalanced-learn\n",
    "\n",
    "#!pip install xgboost"
   ]
  },
  {
   "cell_type": "code",
   "execution_count": 3,
   "id": "4bf4d9a9",
   "metadata": {},
   "outputs": [],
   "source": [
    "import numpy as np\n",
    "import pandas as pd\n",
    "import matplotlib.pyplot as plt\n",
    "import seaborn as sns\n",
    "\n",
    "from sklearn.compose import ColumnTransformer\n",
    "from sklearn.model_selection import train_test_split\n",
    "from sklearn.impute import SimpleImputer\n",
    "from sklearn.preprocessing import OneHotEncoder, OrdinalEncoder\n",
    "from sklearn.preprocessing import KBinsDiscretizer\n",
    "from sklearn.preprocessing import RobustScaler\n",
    "from sklearn.tree import DecisionTreeClassifier\n",
    "from sklearn.ensemble import RandomForestClassifier, VotingClassifier\n",
    "from sklearn.svm import SVC\n",
    "from imblearn.over_sampling import SMOTE\n",
    "#from imblearn.pipeline import Pipeline\n",
    "from sklearn.pipeline import Pipeline\n",
    "from sklearn.linear_model import LogisticRegression\n",
    "from sklearn.metrics import accuracy_score, f1_score, confusion_matrix, ConfusionMatrixDisplay\n",
    "from sklearn.model_selection import cross_val_score\n",
    "\n",
    "from lightgbm import LGBMClassifier\n",
    "from xgboost import XGBClassifier\n",
    "from sklearn.model_selection import GridSearchCV\n",
    "\n",
    "import warnings\n",
    "warnings.filterwarnings('ignore')"
   ]
  },
  {
   "cell_type": "markdown",
   "id": "1b30f8a9",
   "metadata": {},
   "source": [
    "##### Plan of action\n",
    "\n",
    "1. fill null education with most frequent\n",
    "2. fill null previous_year_rating with 0, as length of service is 1 for all\n",
    "3. binning age, length_of_service, avg_training_score\n",
    "4. delete awards won?\n",
    "5. convert columns to normal?\n",
    "6. balanced sampling?"
   ]
  },
  {
   "cell_type": "code",
   "execution_count": 4,
   "id": "34ec09d6",
   "metadata": {},
   "outputs": [
    {
     "data": {
      "text/html": [
       "<div>\n",
       "<style scoped>\n",
       "    .dataframe tbody tr th:only-of-type {\n",
       "        vertical-align: middle;\n",
       "    }\n",
       "\n",
       "    .dataframe tbody tr th {\n",
       "        vertical-align: top;\n",
       "    }\n",
       "\n",
       "    .dataframe thead th {\n",
       "        text-align: right;\n",
       "    }\n",
       "</style>\n",
       "<table border=\"1\" class=\"dataframe\">\n",
       "  <thead>\n",
       "    <tr style=\"text-align: right;\">\n",
       "      <th></th>\n",
       "      <th>employee_id</th>\n",
       "      <th>department</th>\n",
       "      <th>region</th>\n",
       "      <th>education</th>\n",
       "      <th>gender</th>\n",
       "      <th>recruitment_channel</th>\n",
       "      <th>no_of_trainings</th>\n",
       "      <th>age</th>\n",
       "      <th>previous_year_rating</th>\n",
       "      <th>length_of_service</th>\n",
       "      <th>KPIs_met &gt;80%</th>\n",
       "      <th>awards_won?</th>\n",
       "      <th>avg_training_score</th>\n",
       "      <th>is_promoted</th>\n",
       "    </tr>\n",
       "  </thead>\n",
       "  <tbody>\n",
       "    <tr>\n",
       "      <th>27170</th>\n",
       "      <td>1772</td>\n",
       "      <td>Operations</td>\n",
       "      <td>region_2</td>\n",
       "      <td>Bachelor's</td>\n",
       "      <td>m</td>\n",
       "      <td>other</td>\n",
       "      <td>1</td>\n",
       "      <td>33</td>\n",
       "      <td>3.0</td>\n",
       "      <td>6</td>\n",
       "      <td>1</td>\n",
       "      <td>0</td>\n",
       "      <td>59</td>\n",
       "      <td>0</td>\n",
       "    </tr>\n",
       "    <tr>\n",
       "      <th>50877</th>\n",
       "      <td>59935</td>\n",
       "      <td>Procurement</td>\n",
       "      <td>region_2</td>\n",
       "      <td>Bachelor's</td>\n",
       "      <td>f</td>\n",
       "      <td>other</td>\n",
       "      <td>1</td>\n",
       "      <td>38</td>\n",
       "      <td>3.0</td>\n",
       "      <td>11</td>\n",
       "      <td>1</td>\n",
       "      <td>0</td>\n",
       "      <td>68</td>\n",
       "      <td>0</td>\n",
       "    </tr>\n",
       "  </tbody>\n",
       "</table>\n",
       "</div>"
      ],
      "text/plain": [
       "       employee_id   department    region   education gender  \\\n",
       "27170         1772   Operations  region_2  Bachelor's      m   \n",
       "50877        59935  Procurement  region_2  Bachelor's      f   \n",
       "\n",
       "      recruitment_channel  no_of_trainings  age  previous_year_rating  \\\n",
       "27170               other                1   33                   3.0   \n",
       "50877               other                1   38                   3.0   \n",
       "\n",
       "       length_of_service  KPIs_met >80%  awards_won?  avg_training_score  \\\n",
       "27170                  6              1            0                  59   \n",
       "50877                 11              1            0                  68   \n",
       "\n",
       "       is_promoted  \n",
       "27170            0  \n",
       "50877            0  "
      ]
     },
     "execution_count": 4,
     "metadata": {},
     "output_type": "execute_result"
    }
   ],
   "source": [
    "df = pd.read_csv('train_LZdllcl.csv')\n",
    "df.sample(2)"
   ]
  },
  {
   "cell_type": "code",
   "execution_count": 5,
   "id": "f4710e72",
   "metadata": {},
   "outputs": [],
   "source": [
    "df.drop(columns=['employee_id', 'region', 'awards_won?'], axis=1, inplace=True)"
   ]
  },
  {
   "cell_type": "code",
   "execution_count": 6,
   "id": "781c5240",
   "metadata": {},
   "outputs": [
    {
     "data": {
      "text/plain": [
       "0    50140\n",
       "1     4668\n",
       "Name: is_promoted, dtype: int64"
      ]
     },
     "execution_count": 6,
     "metadata": {},
     "output_type": "execute_result"
    }
   ],
   "source": [
    "df.is_promoted.value_counts()"
   ]
  },
  {
   "cell_type": "code",
   "execution_count": 7,
   "id": "d6aa731e",
   "metadata": {},
   "outputs": [
    {
     "data": {
      "text/plain": [
       "10.741216795201371"
      ]
     },
     "execution_count": 7,
     "metadata": {},
     "output_type": "execute_result"
    }
   ],
   "source": [
    "50140/4668"
   ]
  },
  {
   "cell_type": "markdown",
   "id": "f989b0a4",
   "metadata": {},
   "source": [
    "### Exploratory Data Analysis"
   ]
  },
  {
   "cell_type": "code",
   "execution_count": 8,
   "id": "289a6d06",
   "metadata": {},
   "outputs": [
    {
     "data": {
      "text/plain": [
       "<AxesSubplot:>"
      ]
     },
     "execution_count": 8,
     "metadata": {},
     "output_type": "execute_result"
    },
    {
     "data": {
      "image/png": "[encoded data removed]",
      "text/plain": [
       "<Figure size 432x288 with 1 Axes>"
      ]
     },
     "metadata": {
      "needs_background": "light"
     },
     "output_type": "display_data"
    }
   ],
   "source": [
    "df.department.value_counts().plot(kind='bar')"
   ]
  },
  {
   "cell_type": "code",
   "execution_count": 9,
   "id": "73686901",
   "metadata": {},
   "outputs": [
    {
     "data": {
      "text/plain": [
       "<AxesSubplot:>"
      ]
     },
     "execution_count": 9,
     "metadata": {},
     "output_type": "execute_result"
    },
    {
     "data": {
      "image/png": "[encoded data removed]",
      "text/plain": [
       "<Figure size 432x288 with 1 Axes>"
      ]
     },
     "metadata": {
      "needs_background": "light"
     },
     "output_type": "display_data"
    }
   ],
   "source": [
    "df.education.value_counts().plot(kind='bar')"
   ]
  },
  {
   "cell_type": "code",
   "execution_count": 10,
   "id": "032be70c",
   "metadata": {},
   "outputs": [
    {
     "data": {
      "text/plain": [
       "<AxesSubplot:>"
      ]
     },
     "execution_count": 10,
     "metadata": {},
     "output_type": "execute_result"
    },
    {
     "data": {
      "image/png": "[encoded data removed]",
      "text/plain": [
       "<Figure size 432x288 with 1 Axes>"
      ]
     },
     "metadata": {
      "needs_background": "light"
     },
     "output_type": "display_data"
    }
   ],
   "source": [
    "df.gender.value_counts().plot(kind='bar')"
   ]
  },
  {
   "cell_type": "code",
   "execution_count": 11,
   "id": "647320cf",
   "metadata": {},
   "outputs": [
    {
     "data": {
      "text/plain": [
       "<AxesSubplot:>"
      ]
     },
     "execution_count": 11,
     "metadata": {},
     "output_type": "execute_result"
    },
    {
     "data": {
      "image/png": "[encoded data removed]",
      "text/plain": [
       "<Figure size 432x288 with 1 Axes>"
      ]
     },
     "metadata": {
      "needs_background": "light"
     },
     "output_type": "display_data"
    }
   ],
   "source": [
    "df.recruitment_channel.value_counts().plot(kind='bar')"
   ]
  },
  {
   "cell_type": "code",
   "execution_count": 12,
   "id": "06018b39",
   "metadata": {},
   "outputs": [
    {
     "data": {
      "text/plain": [
       "<AxesSubplot:>"
      ]
     },
     "execution_count": 12,
     "metadata": {},
     "output_type": "execute_result"
    },
    {
     "data": {
      "image/png": "[encoded data removed]",
      "text/plain": [
       "<Figure size 432x288 with 1 Axes>"
      ]
     },
     "metadata": {
      "needs_background": "light"
     },
     "output_type": "display_data"
    }
   ],
   "source": [
    "df.no_of_trainings.value_counts().plot()"
   ]
  },
  {
   "cell_type": "code",
   "execution_count": 13,
   "id": "06621849",
   "metadata": {},
   "outputs": [
    {
     "data": {
      "text/plain": [
       "<AxesSubplot:xlabel='age', ylabel='Density'>"
      ]
     },
     "execution_count": 13,
     "metadata": {},
     "output_type": "execute_result"
    },
    {
     "data": {
      "image/png": "[encoded data removed]",
      "text/plain": [
       "<Figure size 432x288 with 1 Axes>"
      ]
     },
     "metadata": {
      "needs_background": "light"
     },
     "output_type": "display_data"
    }
   ],
   "source": [
    "sns.distplot(df.age)"
   ]
  },
  {
   "cell_type": "code",
   "execution_count": 14,
   "id": "1c636249",
   "metadata": {},
   "outputs": [
    {
     "data": {
      "text/plain": [
       "<seaborn.axisgrid.FacetGrid at 0x142f8f28a90>"
      ]
     },
     "execution_count": 14,
     "metadata": {},
     "output_type": "execute_result"
    },
    {
     "data": {
      "image/png": "[encoded data removed]",
      "text/plain": [
       "<Figure size 360x360 with 1 Axes>"
      ]
     },
     "metadata": {
      "needs_background": "light"
     },
     "output_type": "display_data"
    }
   ],
   "source": [
    "sns.displot(df.previous_year_rating)"
   ]
  },
  {
   "cell_type": "code",
   "execution_count": 15,
   "id": "87e62e5a",
   "metadata": {},
   "outputs": [
    {
     "data": {
      "text/plain": [
       "<AxesSubplot:xlabel='length_of_service', ylabel='Count'>"
      ]
     },
     "execution_count": 15,
     "metadata": {},
     "output_type": "execute_result"
    },
    {
     "data": {
      "image/png": "[encoded data removed]",
      "text/plain": [
       "<Figure size 432x288 with 1 Axes>"
      ]
     },
     "metadata": {
      "needs_background": "light"
     },
     "output_type": "display_data"
    }
   ],
   "source": [
    "sns.histplot(df.length_of_service)"
   ]
  },
  {
   "cell_type": "code",
   "execution_count": 16,
   "id": "23ce0b80",
   "metadata": {},
   "outputs": [
    {
     "data": {
      "text/plain": [
       "<AxesSubplot:>"
      ]
     },
     "execution_count": 16,
     "metadata": {},
     "output_type": "execute_result"
    },
    {
     "data": {
      "image/png": "[encoded data removed]",
      "text/plain": [
       "<Figure size 432x288 with 1 Axes>"
      ]
     },
     "metadata": {
      "needs_background": "light"
     },
     "output_type": "display_data"
    }
   ],
   "source": [
    "df['KPIs_met >80%'].value_counts().plot(kind='bar')"
   ]
  },
  {
   "cell_type": "code",
   "execution_count": 17,
   "id": "003812dc",
   "metadata": {},
   "outputs": [
    {
     "data": {
      "text/plain": [
       "<AxesSubplot:xlabel='avg_training_score', ylabel='Density'>"
      ]
     },
     "execution_count": 17,
     "metadata": {},
     "output_type": "execute_result"
    },
    {
     "data": {
      "image/png": "[encoded data removed]",
      "text/plain": [
       "<Figure size 432x288 with 1 Axes>"
      ]
     },
     "metadata": {
      "needs_background": "light"
     },
     "output_type": "display_data"
    }
   ],
   "source": [
    "sns.distplot(df.avg_training_score)"
   ]
  },
  {
   "cell_type": "code",
   "execution_count": 18,
   "id": "66b5e56e",
   "metadata": {},
   "outputs": [
    {
     "data": {
      "text/plain": [
       "<AxesSubplot:>"
      ]
     },
     "execution_count": 18,
     "metadata": {},
     "output_type": "execute_result"
    },
    {
     "data": {
      "image/png": "[encoded data removed]",
      "text/plain": [
       "<Figure size 432x288 with 1 Axes>"
      ]
     },
     "metadata": {
      "needs_background": "light"
     },
     "output_type": "display_data"
    }
   ],
   "source": [
    "df.is_promoted.value_counts().plot(kind='bar')"
   ]
  },
  {
   "cell_type": "code",
   "execution_count": 19,
   "id": "d2b6e7de",
   "metadata": {},
   "outputs": [
    {
     "data": {
      "text/plain": [
       "1    4124\n",
       "Name: length_of_service, dtype: int64"
      ]
     },
     "execution_count": 19,
     "metadata": {},
     "output_type": "execute_result"
    }
   ],
   "source": [
    "df[df.previous_year_rating.isnull()].length_of_service.value_counts()"
   ]
  },
  {
   "cell_type": "markdown",
   "id": "e6706cc7",
   "metadata": {},
   "source": [
    "### Train test split"
   ]
  },
  {
   "cell_type": "code",
   "execution_count": 20,
   "id": "45ab8003",
   "metadata": {},
   "outputs": [],
   "source": [
    "x = df.iloc[:,0:-1]\n",
    "y = df.iloc[:, -1]"
   ]
  },
  {
   "cell_type": "code",
   "execution_count": 21,
   "id": "05aef663",
   "metadata": {},
   "outputs": [
    {
     "name": "stdout",
     "output_type": "stream",
     "text": [
      "(43846, 10) (10962, 10)\n"
     ]
    }
   ],
   "source": [
    "X_train, X_test, y_train, y_test = train_test_split(x,y, test_size=0.2, random_state=42)\n",
    "\n",
    "print(X_train.shape, X_test.shape)\n"
   ]
  },
  {
   "cell_type": "code",
   "execution_count": 22,
   "id": "a5e443dd",
   "metadata": {},
   "outputs": [
    {
     "data": {
      "text/html": [
       "<div>\n",
       "<style scoped>\n",
       "    .dataframe tbody tr th:only-of-type {\n",
       "        vertical-align: middle;\n",
       "    }\n",
       "\n",
       "    .dataframe tbody tr th {\n",
       "        vertical-align: top;\n",
       "    }\n",
       "\n",
       "    .dataframe thead th {\n",
       "        text-align: right;\n",
       "    }\n",
       "</style>\n",
       "<table border=\"1\" class=\"dataframe\">\n",
       "  <thead>\n",
       "    <tr style=\"text-align: right;\">\n",
       "      <th></th>\n",
       "      <th>department</th>\n",
       "      <th>education</th>\n",
       "      <th>gender</th>\n",
       "      <th>recruitment_channel</th>\n",
       "      <th>no_of_trainings</th>\n",
       "      <th>age</th>\n",
       "      <th>previous_year_rating</th>\n",
       "      <th>length_of_service</th>\n",
       "      <th>KPIs_met &gt;80%</th>\n",
       "      <th>avg_training_score</th>\n",
       "    </tr>\n",
       "  </thead>\n",
       "  <tbody>\n",
       "    <tr>\n",
       "      <th>3872</th>\n",
       "      <td>Sales &amp; Marketing</td>\n",
       "      <td>Bachelor's</td>\n",
       "      <td>m</td>\n",
       "      <td>other</td>\n",
       "      <td>1</td>\n",
       "      <td>31</td>\n",
       "      <td>5.0</td>\n",
       "      <td>5</td>\n",
       "      <td>1</td>\n",
       "      <td>48</td>\n",
       "    </tr>\n",
       "    <tr>\n",
       "      <th>11619</th>\n",
       "      <td>Technology</td>\n",
       "      <td>Master's &amp; above</td>\n",
       "      <td>m</td>\n",
       "      <td>sourcing</td>\n",
       "      <td>1</td>\n",
       "      <td>34</td>\n",
       "      <td>1.0</td>\n",
       "      <td>4</td>\n",
       "      <td>0</td>\n",
       "      <td>78</td>\n",
       "    </tr>\n",
       "  </tbody>\n",
       "</table>\n",
       "</div>"
      ],
      "text/plain": [
       "              department         education gender recruitment_channel  \\\n",
       "3872   Sales & Marketing        Bachelor's      m               other   \n",
       "11619         Technology  Master's & above      m            sourcing   \n",
       "\n",
       "       no_of_trainings  age  previous_year_rating  length_of_service  \\\n",
       "3872                 1   31                   5.0                  5   \n",
       "11619                1   34                   1.0                  4   \n",
       "\n",
       "       KPIs_met >80%  avg_training_score  \n",
       "3872               1                  48  \n",
       "11619              0                  78  "
      ]
     },
     "execution_count": 22,
     "metadata": {},
     "output_type": "execute_result"
    }
   ],
   "source": [
    "X_train.head(2)"
   ]
  },
  {
   "cell_type": "markdown",
   "id": "d3b0e672",
   "metadata": {},
   "source": [
    "### Feature Engineering"
   ]
  },
  {
   "cell_type": "code",
   "execution_count": 23,
   "id": "ccde5a29",
   "metadata": {},
   "outputs": [],
   "source": [
    "trf1 = ColumnTransformer([\n",
    "    ('imp_edu', SimpleImputer(strategy='most_frequent'), [1]),\n",
    "    ('imp_pyr', SimpleImputer(strategy='constant', fill_value=0.0), [6])\n",
    "], remainder='passthrough')"
   ]
  },
  {
   "cell_type": "code",
   "execution_count": 24,
   "id": "b226cb97",
   "metadata": {},
   "outputs": [],
   "source": [
    "X_train_trf1 = trf1.fit_transform(X_train)"
   ]
  },
  {
   "cell_type": "code",
   "execution_count": 25,
   "id": "1f5104c6",
   "metadata": {},
   "outputs": [
    {
     "data": {
      "text/plain": [
       "array([\"Bachelor's\", 5.0, 'Sales & Marketing', 'm', 'other', 1, 31, 5, 1,\n",
       "       48], dtype=object)"
      ]
     },
     "execution_count": 25,
     "metadata": {},
     "output_type": "execute_result"
    }
   ],
   "source": [
    "X_train_trf1[0]"
   ]
  },
  {
   "cell_type": "code",
   "execution_count": 26,
   "id": "cae5f75d",
   "metadata": {},
   "outputs": [],
   "source": [
    "trf2 = ColumnTransformer([\n",
    "    ('binning_a_l_av', KBinsDiscretizer(n_bins=5, strategy='uniform', encode='ordinal'), [6,7,9])\n",
    "], remainder='passthrough') "
   ]
  },
  {
   "cell_type": "code",
   "execution_count": 27,
   "id": "417ce6a4",
   "metadata": {},
   "outputs": [
    {
     "data": {
      "text/plain": [
       "array([1.0, 0.0, 0.0, \"Bachelor's\", 5.0, 'Sales & Marketing', 'm',\n",
       "       'other', 1, 1], dtype=object)"
      ]
     },
     "execution_count": 27,
     "metadata": {},
     "output_type": "execute_result"
    }
   ],
   "source": [
    "X_train_trf2 = trf2.fit_transform(X_train_trf1)\n",
    "\n",
    "X_train_trf2[0]"
   ]
  },
  {
   "cell_type": "code",
   "execution_count": 28,
   "id": "29800b35",
   "metadata": {},
   "outputs": [],
   "source": [
    "trf3 = ColumnTransformer([\n",
    "    ('ohe_d_g_r', OneHotEncoder(sparse=False, handle_unknown='ignore'), [5,6,7]),\n",
    "    ('orde_edu', OrdinalEncoder(categories=[['Below Secondary', \"Bachelor's\", \"Master's & above\"]]), [3])\n",
    "], remainder='passthrough')"
   ]
  },
  {
   "cell_type": "code",
   "execution_count": 29,
   "id": "4016fc64",
   "metadata": {},
   "outputs": [],
   "source": [
    "trf4 = ColumnTransformer([\n",
    "    ('robustscaler', RobustScaler(), slice(0,10))\n",
    "], remainder='passthrough')"
   ]
  },
  {
   "cell_type": "code",
   "execution_count": 32,
   "id": "3f87c219",
   "metadata": {},
   "outputs": [],
   "source": [
    "pipe = Pipeline([\n",
    "    \n",
    "    ('trf1', trf1),\n",
    "    ('trf2', trf2),\n",
    "    ('trf3', trf3),\n",
    "    ('trf4', trf4)\n",
    "])"
   ]
  },
  {
   "cell_type": "code",
   "execution_count": 36,
   "id": "a7c4c325",
   "metadata": {},
   "outputs": [],
   "source": [
    "X_train = pipe.fit_transform(X_train)\n",
    "X_test = pipe.transform(X_test)"
   ]
  },
  {
   "cell_type": "code",
   "execution_count": 55,
   "id": "73b5a65a",
   "metadata": {},
   "outputs": [
    {
     "name": "stdout",
     "output_type": "stream",
     "text": [
      "Fitting 5 folds for each of 12 candidates, totalling 60 fits\n"
     ]
    }
   ],
   "source": [
    "classifiers = {\n",
    "    #'xgb': XGBClassifier(objective='binary:logistic')\n",
    "    'lgbm' : LGBMClassifier()\n",
    "}\n",
    "\n",
    "parameters = {'xgb':{\n",
    "                  'max_depth': range (2, 10, 1),\n",
    "                  'n_estimators': range(60, 220, 40),\n",
    "                  'learning_rate': [0.1, 0.01, 0.05]\n",
    "              },\n",
    "              'lgbm':{\n",
    "                  'boosting_type' : ['gbdt','dart','goss'],\n",
    "                  'num_leaves': [300],\n",
    "                  'max_depth': [5],\n",
    "                  'learning_rate': [0.01, 0.05, 0.1, 0.3],\n",
    "                  'n_estimators': [500],\n",
    "                  'scale_pos_weight' : [3.2]\n",
    "                  \n",
    "              }\n",
    "}\n",
    "\n",
    "\n",
    "for name,clf in classifiers.items():\n",
    "    grid_search = GridSearchCV(\n",
    "        estimator=clf,\n",
    "        param_grid=parameters.get(name),\n",
    "        scoring = 'f1',\n",
    "        n_jobs = 10,\n",
    "        cv = 5,\n",
    "        verbose=True)\n",
    "\n",
    "    grid_search.fit(X_train,y_train)"
   ]
  },
  {
   "cell_type": "code",
   "execution_count": 56,
   "id": "968874cd",
   "metadata": {},
   "outputs": [
    {
     "name": "stdout",
     "output_type": "stream",
     "text": [
      "{'boosting_type': 'dart', 'learning_rate': 0.1, 'max_depth': 5, 'n_estimators': 500, 'num_leaves': 300, 'scale_pos_weight': 3.2}\n",
      "0.4232956621055449\n"
     ]
    }
   ],
   "source": [
    "print(grid_search.best_params_)\n",
    "print(grid_search.best_score_)"
   ]
  },
  {
   "cell_type": "code",
   "execution_count": 57,
   "id": "a93bec98",
   "metadata": {},
   "outputs": [
    {
     "name": "stdout",
     "output_type": "stream",
     "text": [
      "0.4116094986807388\n"
     ]
    }
   ],
   "source": [
    "model = LGBMClassifier(boosting_type='dart',\n",
    "                      learning_rate=0.1,\n",
    "                      max_depth=5,\n",
    "                      n_estimators=500,\n",
    "                      num_leaves=300,\n",
    "                      scale_pos_weight=3.2)\n",
    "\n",
    "model.fit(X_train, y_train)\n",
    "y_pred = model.predict(X_test)\n",
    "f1 = f1_score(y_test, y_pred)\n",
    "print(f1)"
   ]
  },
  {
   "cell_type": "code",
   "execution_count": 58,
   "id": "fd6cbcc9",
   "metadata": {},
   "outputs": [
    {
     "data": {
      "text/html": [
       "<div>\n",
       "<style scoped>\n",
       "    .dataframe tbody tr th:only-of-type {\n",
       "        vertical-align: middle;\n",
       "    }\n",
       "\n",
       "    .dataframe tbody tr th {\n",
       "        vertical-align: top;\n",
       "    }\n",
       "\n",
       "    .dataframe thead th {\n",
       "        text-align: right;\n",
       "    }\n",
       "</style>\n",
       "<table border=\"1\" class=\"dataframe\">\n",
       "  <thead>\n",
       "    <tr style=\"text-align: right;\">\n",
       "      <th></th>\n",
       "      <th>Actual_label</th>\n",
       "      <th>Predicted_label</th>\n",
       "    </tr>\n",
       "  </thead>\n",
       "  <tbody>\n",
       "    <tr>\n",
       "      <th>20735</th>\n",
       "      <td>1</td>\n",
       "      <td>1</td>\n",
       "    </tr>\n",
       "    <tr>\n",
       "      <th>35125</th>\n",
       "      <td>1</td>\n",
       "      <td>0</td>\n",
       "    </tr>\n",
       "    <tr>\n",
       "      <th>29976</th>\n",
       "      <td>1</td>\n",
       "      <td>1</td>\n",
       "    </tr>\n",
       "    <tr>\n",
       "      <th>18668</th>\n",
       "      <td>1</td>\n",
       "      <td>0</td>\n",
       "    </tr>\n",
       "    <tr>\n",
       "      <th>47278</th>\n",
       "      <td>1</td>\n",
       "      <td>1</td>\n",
       "    </tr>\n",
       "    <tr>\n",
       "      <th>...</th>\n",
       "      <td>...</td>\n",
       "      <td>...</td>\n",
       "    </tr>\n",
       "    <tr>\n",
       "      <th>38611</th>\n",
       "      <td>1</td>\n",
       "      <td>1</td>\n",
       "    </tr>\n",
       "    <tr>\n",
       "      <th>45834</th>\n",
       "      <td>1</td>\n",
       "      <td>0</td>\n",
       "    </tr>\n",
       "    <tr>\n",
       "      <th>8376</th>\n",
       "      <td>1</td>\n",
       "      <td>1</td>\n",
       "    </tr>\n",
       "    <tr>\n",
       "      <th>37896</th>\n",
       "      <td>1</td>\n",
       "      <td>1</td>\n",
       "    </tr>\n",
       "    <tr>\n",
       "      <th>9725</th>\n",
       "      <td>1</td>\n",
       "      <td>0</td>\n",
       "    </tr>\n",
       "  </tbody>\n",
       "</table>\n",
       "<p>908 rows × 2 columns</p>\n",
       "</div>"
      ],
      "text/plain": [
       "       Actual_label  Predicted_label\n",
       "20735             1                1\n",
       "35125             1                0\n",
       "29976             1                1\n",
       "18668             1                0\n",
       "47278             1                1\n",
       "...             ...              ...\n",
       "38611             1                1\n",
       "45834             1                0\n",
       "8376              1                1\n",
       "37896             1                1\n",
       "9725              1                0\n",
       "\n",
       "[908 rows x 2 columns]"
      ]
     },
     "execution_count": 58,
     "metadata": {},
     "output_type": "execute_result"
    }
   ],
   "source": [
    "a = pd.DataFrame({'Actual_label':y_test, 'Predicted_label': y_pred})\n",
    "a[a.Actual_label == 1]"
   ]
  },
  {
   "cell_type": "code",
   "execution_count": 59,
   "id": "5c0c6df5",
   "metadata": {},
   "outputs": [],
   "source": [
    "from sklearn.metrics import precision_score, recall_score, precision_recall_curve"
   ]
  },
  {
   "cell_type": "code",
   "execution_count": 60,
   "id": "9b92eaed",
   "metadata": {},
   "outputs": [
    {
     "name": "stdout",
     "output_type": "stream",
     "text": [
      "0.5131578947368421 0.3436123348017621\n"
     ]
    }
   ],
   "source": [
    "p = precision_score(y_test, y_pred)\n",
    "r = recall_score(y_test, y_pred)\n",
    "\n",
    "print(p, r)"
   ]
  },
  {
   "cell_type": "code",
   "execution_count": 61,
   "id": "ecb9ab89",
   "metadata": {},
   "outputs": [],
   "source": [
    "cm = confusion_matrix(y_test, y_pred)"
   ]
  },
  {
   "cell_type": "code",
   "execution_count": 62,
   "id": "6c6be8da",
   "metadata": {},
   "outputs": [
    {
     "data": {
      "text/plain": [
       "<sklearn.metrics._plot.confusion_matrix.ConfusionMatrixDisplay at 0x142886f3be0>"
      ]
     },
     "execution_count": 62,
     "metadata": {},
     "output_type": "execute_result"
    },
    {
     "data": {
      "image/png": "[encoded data removed]",
      "text/plain": [
       "<Figure size 432x288 with 2 Axes>"
      ]
     },
     "metadata": {
      "needs_background": "light"
     },
     "output_type": "display_data"
    }
   ],
   "source": [
    "ConfusionMatrixDisplay(cm).plot()"
   ]
  },
  {
   "cell_type": "code",
   "execution_count": 71,
   "id": "b321d9a5",
   "metadata": {},
   "outputs": [],
   "source": [
    "# working on the test data\n",
    "\n",
    "df_test = pd.read_csv('test_2umaH9m.csv')"
   ]
  },
  {
   "cell_type": "code",
   "execution_count": 72,
   "id": "ad0b27ab",
   "metadata": {},
   "outputs": [
    {
     "data": {
      "text/plain": [
       "(23490, 13)"
      ]
     },
     "execution_count": 72,
     "metadata": {},
     "output_type": "execute_result"
    }
   ],
   "source": [
    "df_test.shape"
   ]
  },
  {
   "cell_type": "code",
   "execution_count": 75,
   "id": "11665570",
   "metadata": {},
   "outputs": [],
   "source": [
    "df_test_emp_id = df_test['employee_id']\n",
    "df_test.drop(columns=['employee_id', 'region', 'awards_won?'], axis=1, inplace=True)"
   ]
  },
  {
   "cell_type": "code",
   "execution_count": 78,
   "id": "34d67776",
   "metadata": {},
   "outputs": [],
   "source": [
    "df_test = pipe.transform(df_test)"
   ]
  },
  {
   "cell_type": "code",
   "execution_count": 79,
   "id": "497846d8",
   "metadata": {},
   "outputs": [],
   "source": [
    "predictions = model.predict(df_test)"
   ]
  },
  {
   "cell_type": "code",
   "execution_count": 80,
   "id": "3ba811fd",
   "metadata": {},
   "outputs": [
    {
     "data": {
      "text/plain": [
       "array([0, 0, 0, ..., 0, 0, 1], dtype=int64)"
      ]
     },
     "execution_count": 80,
     "metadata": {},
     "output_type": "execute_result"
    }
   ],
   "source": [
    "predictions"
   ]
  },
  {
   "cell_type": "code",
   "execution_count": 91,
   "id": "02c42eab",
   "metadata": {},
   "outputs": [],
   "source": [
    "final = pd.concat([df_test_emp_id,pd.Series(predictions)], axis=1)\n",
    "final.columns = ['employee_id','is_promoted']"
   ]
  },
  {
   "cell_type": "code",
   "execution_count": 95,
   "id": "3e96cfce",
   "metadata": {},
   "outputs": [],
   "source": [
    "final.set_index('employee_id', inplace=True)"
   ]
  },
  {
   "cell_type": "code",
   "execution_count": 97,
   "id": "c075521d",
   "metadata": {},
   "outputs": [],
   "source": [
    "final.to_csv('final_submission.csv')"
   ]
  }
 ],
 "metadata": {
  "kernelspec": {
   "display_name": "Python 3 (ipykernel)",
   "language": "python",
   "name": "python3"
  },
  "language_info": {
   "codemirror_mode": {
    "name": "ipython",
    "version": 3
   },
   "file_extension": ".py",
   "mimetype": "text/x-python",
   "name": "python",
   "nbconvert_exporter": "python",
   "pygments_lexer": "ipython3",
   "version": "3.9.7"
  }
 },
 "nbformat": 4,
 "nbformat_minor": 5
}
